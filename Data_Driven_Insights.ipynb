{
  "nbformat": 4,
  "nbformat_minor": 0,
  "metadata": {
    "colab": {
      "provenance": [],
      "include_colab_link": true
    },
    "kernelspec": {
      "name": "python3",
      "display_name": "Python 3"
    },
    "language_info": {
      "name": "python"
    }
  },
  "cells": [
    {
      "cell_type": "markdown",
      "metadata": {
        "id": "view-in-github",
        "colab_type": "text"
      },
      "source": [
        "<a href=\"https://colab.research.google.com/github/CaroliisRibeiro/Projeto_1_Programa_Desenvolve_GB/blob/main/Data_Driven_Insights.ipynb\" target=\"_parent\"><img src=\"https://colab.research.google.com/assets/colab-badge.svg\" alt=\"Open In Colab\"/></a>"
      ]
    },
    {
      "cell_type": "markdown",
      "source": [
        "# 📘 Instrução – Mini Projeto: Data-Driven Insights (Módulo 01)\n",
        "\n",
        "## 🧑‍💻 Projeto\n",
        "Você deverá criar um projeto prático de exploração e visualização de dados com Python no Google Colab, utilizando uma das bases indicadas abaixo ou outra de sua escolha, desde que esteja no formato .csv.\n",
        "\n",
        "## 🎯 Objetivo\n",
        "Explorar, transformar e visualizar dados com base em estruturas do Python e bibliotecas como pandas, numpy e matplotlib, gerando insights descritivos a partir da análise.\n",
        "\n",
        "## ✅ Entregáveis\n",
        "\n",
        "1. Notebook Colab com o nome: data_driven_insights.ipynb\n",
        "\n",
        "2. O notebook deve conter:\n",
        "\n",
        "  - Uso de listas, dicionários e tuplas com os dados\n",
        "\n",
        "  - Estruturas condicionais (if/elif/else) e loops (for, while)\n",
        "\n",
        "  - Manipulação de colunas com pandas\n",
        "\n",
        "  - Operações com arrays NumPy\n",
        "\n",
        "  - Filtragens, agrupamentos e resumos com pandas\n",
        "\n",
        "  - Gráficos (linha, barras e dispersão) com matplotlib\n",
        "\n",
        "  - Comentários e insights ao longo do notebook usando Markdown\n",
        "\n",
        "  - Um relatório final em Markdown com os principais aprendizados e descobertas\n",
        "\n",
        "3. Publicação no GitHub:\n",
        "\n",
        "  - Criar um repositório com o nome: data-driven-insights\n",
        "\n",
        "  - Subir o notebook final no repositório\n",
        "\n",
        "## 📊 Bases de dados sugeridas\n",
        "\n",
        "Você pode escolher uma das opções abaixo ou outra de sua preferência:\n",
        "\n",
        "🎓 Dados de desempenho escolar:\n",
        "https://archive.ics.uci.edu/dataset/320/student+performance\n",
        "\n",
        "🛍️ Dados de vendas simuladas:\n",
        "https://www.kaggle.com/datasets/kyanyoga/sample-sales-data\n",
        "\n",
        "Dica: certifique-se de entender bem as colunas da base escolhida antes de começar a análise."
      ],
      "metadata": {
        "id": "BoZxQpD699l3"
      }
    },
    {
      "cell_type": "markdown",
      "source": [
        "# 🦮 Conteúdo Guiado\n",
        "\n",
        "Abaixo você tem o conteúdo guiado para ajudar no desenvolvimento do projeto.\n",
        "\n",
        "Siga o passo-a-passo e suba seu projeto para o repositório do Github."
      ],
      "metadata": {
        "id": "jq55yM_GBfwZ"
      }
    },
    {
      "cell_type": "markdown",
      "source": [
        "1. Importação de Bibliotecas"
      ],
      "metadata": {
        "id": "X8PWqidgio8L"
      }
    },
    {
      "cell_type": "code",
      "source": [
        "import pandas as pd\n",
        "import numpy as np\n",
        "import matplotlib.pyplot as plt"
      ],
      "metadata": {
        "id": "EO6r6VuLwANS"
      },
      "execution_count": 3,
      "outputs": []
    },
    {
      "cell_type": "markdown",
      "source": [
        "### **2. Leitura e Exploração Inicial da Base**\n",
        "\n",
        "- Carregue o arquivo CSV escolhido usando pandas.\n",
        "- Mostre as 5 primeiras linhas.\n",
        "- Mostre o nome das colunas, a quantidade de linhas/colunas e tipos de dados detectados pelo pandas (**`.dtypes`**).\n",
        "- **Explique em Markdown** os principais tipos de dados encontrados (str, int, float, ...).\n",
        "\n",
        "``` python\n",
        "df = pd.read_csv('arquivo.csv')   # Substitua pelo nome do seu arquivo\n",
        "print(df.head())\n",
        "print(df.shape)\n",
        "print(df.columns)\n",
        "print(df.dtypes)\n",
        "```\n"
      ],
      "metadata": {
        "id": "OSN-PDDrA_o-"
      }
    },
    {
      "cell_type": "markdown",
      "source": [
        "# API Kaggle\n",
        "\n"
      ],
      "metadata": {
        "id": "RPmsooUBxNCx"
      }
    },
    {
      "cell_type": "code",
      "source": [
        "df = pd.read_csv('/content/sales_data_sample.csv', encoding='latin1')\n",
        "\n"
      ],
      "metadata": {
        "id": "QcLZr63A7G9g"
      },
      "execution_count": 4,
      "outputs": []
    },
    {
      "cell_type": "markdown",
      "source": [
        "# Insigth:\n",
        "### Ao colocar o nome do arquivo, a principio este arquivo não foi lido corretamente, pois o Python (mais precisamente, o pandas.read_csv) tentou abrir meu arquivo CSV usando a codificação UTF-8, mas encontrou um  caractere que não é válido em UTF-8.Isso geralmente significa que o arquivo está usando outra codificação, como ISO-8859-1 (também chamada de Latin-1) ou Windows-1252.\n",
        "Com isso acrescentei essa parte na linha de codigo \", encoding='latin1' \"."
      ],
      "metadata": {
        "id": "s-T3-9tm8cu7"
      }
    },
    {
      "cell_type": "code",
      "source": [
        "print(df.head(10))\n"
      ],
      "metadata": {
        "colab": {
          "base_uri": "https://localhost:8080/"
        },
        "id": "J9Xv-eiGwKOu",
        "outputId": "8138532d-b159-467d-aa17-650a73148396"
      },
      "execution_count": 5,
      "outputs": [
        {
          "output_type": "stream",
          "name": "stdout",
          "text": [
            "   ORDERNUMBER  QUANTITYORDERED  PRICEEACH  ORDERLINENUMBER    SALES  \\\n",
            "0        10107               30      95.70                2  2871.00   \n",
            "1        10121               34      81.35                5  2765.90   \n",
            "2        10134               41      94.74                2  3884.34   \n",
            "3        10145               45      83.26                6  3746.70   \n",
            "4        10159               49     100.00               14  5205.27   \n",
            "5        10168               36      96.66                1  3479.76   \n",
            "6        10180               29      86.13                9  2497.77   \n",
            "7        10188               48     100.00                1  5512.32   \n",
            "8        10201               22      98.57                2  2168.54   \n",
            "9        10211               41     100.00               14  4708.44   \n",
            "\n",
            "         ORDERDATE   STATUS  QTR_ID  MONTH_ID  YEAR_ID  ...  \\\n",
            "0   2/24/2003 0:00  Shipped       1         2     2003  ...   \n",
            "1    5/7/2003 0:00  Shipped       2         5     2003  ...   \n",
            "2    7/1/2003 0:00  Shipped       3         7     2003  ...   \n",
            "3   8/25/2003 0:00  Shipped       3         8     2003  ...   \n",
            "4  10/10/2003 0:00  Shipped       4        10     2003  ...   \n",
            "5  10/28/2003 0:00  Shipped       4        10     2003  ...   \n",
            "6  11/11/2003 0:00  Shipped       4        11     2003  ...   \n",
            "7  11/18/2003 0:00  Shipped       4        11     2003  ...   \n",
            "8   12/1/2003 0:00  Shipped       4        12     2003  ...   \n",
            "9   1/15/2004 0:00  Shipped       1         1     2004  ...   \n",
            "\n",
            "                    ADDRESSLINE1  ADDRESSLINE2           CITY STATE  \\\n",
            "0        897 Long Airport Avenue           NaN            NYC    NY   \n",
            "1             59 rue de l'Abbaye           NaN          Reims   NaN   \n",
            "2  27 rue du Colonel Pierre Avia           NaN          Paris   NaN   \n",
            "3             78934 Hillside Dr.           NaN       Pasadena    CA   \n",
            "4                7734 Strong St.           NaN  San Francisco    CA   \n",
            "5              9408 Furth Circle           NaN     Burlingame    CA   \n",
            "6        184, chausse de Tournai           NaN          Lille   NaN   \n",
            "7    Drammen 121, PR 744 Sentrum           NaN         Bergen   NaN   \n",
            "8      5557 North Pendale Street           NaN  San Francisco    CA   \n",
            "9              25, rue Lauriston           NaN          Paris   NaN   \n",
            "\n",
            "  POSTALCODE COUNTRY TERRITORY CONTACTLASTNAME CONTACTFIRSTNAME DEALSIZE  \n",
            "0      10022     USA       NaN              Yu             Kwai    Small  \n",
            "1      51100  France      EMEA         Henriot             Paul    Small  \n",
            "2      75508  France      EMEA        Da Cunha           Daniel   Medium  \n",
            "3      90003     USA       NaN           Young            Julie   Medium  \n",
            "4        NaN     USA       NaN           Brown            Julie   Medium  \n",
            "5      94217     USA       NaN          Hirano             Juri   Medium  \n",
            "6      59000  France      EMEA           Rance          Martine    Small  \n",
            "7     N 5804  Norway      EMEA          Oeztan           Veysel   Medium  \n",
            "8        NaN     USA       NaN          Murphy            Julie    Small  \n",
            "9      75016  France      EMEA         Perrier        Dominique   Medium  \n",
            "\n",
            "[10 rows x 25 columns]\n"
          ]
        }
      ]
    },
    {
      "cell_type": "markdown",
      "source": [
        "# Insight\n",
        "### Com a leitura do df.head deu para perceber que os Dados de vendas, informações de pedidos, vendas, clientes, frete, etc.,estao sendo usados para segmentação, análise de clientes.\n",
        "Por exemplo:\n",
        "1. o preço de cada produto e a quantidade encomendada.\n",
        "2. produtos que são mais vendidos\n",
        "3. a data de envio do produto(mês/dia/ano)\n",
        "4. para quais lugares os produtos são enviados com mais frequencia\n",
        "5. quais são os tamanhos das encomendas ( pequeno , medio ou grande)"
      ],
      "metadata": {
        "id": "4GJj5efW9tLo"
      }
    },
    {
      "cell_type": "code",
      "source": [
        "print(df.shape)\n"
      ],
      "metadata": {
        "colab": {
          "base_uri": "https://localhost:8080/"
        },
        "id": "ZXAFTc-I8F6T",
        "outputId": "51412a1e-7465-4633-9946-20786d496339"
      },
      "execution_count": null,
      "outputs": [
        {
          "output_type": "stream",
          "name": "stdout",
          "text": [
            "(2823, 25)\n"
          ]
        }
      ]
    },
    {
      "cell_type": "markdown",
      "source": [
        "### Aqui no df.shape mostra quantidade de 2823 linhas e 25 *colunas*"
      ],
      "metadata": {
        "id": "krr2IwUoJWg6"
      }
    },
    {
      "cell_type": "code",
      "source": [
        "print(df.columns)\n"
      ],
      "metadata": {
        "colab": {
          "base_uri": "https://localhost:8080/"
        },
        "id": "q52c4ERV8I0h",
        "outputId": "ff6b21af-706c-407a-9349-edd6f0e6047f"
      },
      "execution_count": 6,
      "outputs": [
        {
          "output_type": "stream",
          "name": "stdout",
          "text": [
            "Index(['ORDERNUMBER', 'QUANTITYORDERED', 'PRICEEACH', 'ORDERLINENUMBER',\n",
            "       'SALES', 'ORDERDATE', 'STATUS', 'QTR_ID', 'MONTH_ID', 'YEAR_ID',\n",
            "       'PRODUCTLINE', 'MSRP', 'PRODUCTCODE', 'CUSTOMERNAME', 'PHONE',\n",
            "       'ADDRESSLINE1', 'ADDRESSLINE2', 'CITY', 'STATE', 'POSTALCODE',\n",
            "       'COUNTRY', 'TERRITORY', 'CONTACTLASTNAME', 'CONTACTFIRSTNAME',\n",
            "       'DEALSIZE'],\n",
            "      dtype='object')\n"
          ]
        }
      ]
    },
    {
      "cell_type": "markdown",
      "source": [
        "# Insight\n",
        "### No df.columns mostra os respectivos nomes das colunas 25 do df que *corresponde* aos Dados de vendas. *texto em itálico*"
      ],
      "metadata": {
        "id": "f7EzVEVHJ2cy"
      }
    },
    {
      "cell_type": "code",
      "source": [
        "print(df.dtypes)"
      ],
      "metadata": {
        "colab": {
          "base_uri": "https://localhost:8080/"
        },
        "id": "zIkzeZxq8Ldd",
        "outputId": "8e7a1083-82ab-4e61-92a3-b70b9ae8771a"
      },
      "execution_count": 7,
      "outputs": [
        {
          "output_type": "stream",
          "name": "stdout",
          "text": [
            "ORDERNUMBER           int64\n",
            "QUANTITYORDERED       int64\n",
            "PRICEEACH           float64\n",
            "ORDERLINENUMBER       int64\n",
            "SALES               float64\n",
            "ORDERDATE            object\n",
            "STATUS               object\n",
            "QTR_ID                int64\n",
            "MONTH_ID              int64\n",
            "YEAR_ID               int64\n",
            "PRODUCTLINE          object\n",
            "MSRP                  int64\n",
            "PRODUCTCODE          object\n",
            "CUSTOMERNAME         object\n",
            "PHONE                object\n",
            "ADDRESSLINE1         object\n",
            "ADDRESSLINE2         object\n",
            "CITY                 object\n",
            "STATE                object\n",
            "POSTALCODE           object\n",
            "COUNTRY              object\n",
            "TERRITORY            object\n",
            "CONTACTLASTNAME      object\n",
            "CONTACTFIRSTNAME     object\n",
            "DEALSIZE             object\n",
            "dtype: object\n"
          ]
        }
      ]
    },
    {
      "cell_type": "markdown",
      "source": [
        "# Insight\n",
        "### Já o df.dtype mostra os tipos de dados que em sua maioria são do tipo object, em seguida tem do tipo inteiro e float"
      ],
      "metadata": {
        "id": "c9xebuUpK5GT"
      }
    },
    {
      "cell_type": "markdown",
      "source": [
        "### **3. Listas, Dicionários e Tuplas**\n",
        "\n",
        "- Extraia uma coluna de interesse em uma **lista** Python e faça um loop imprimindo informações sobre cada item.\n",
        "- Monte um **dicionário** relacionando dois campos importantes da base (ex: produto:categoria, filme:gênero, aluno:disciplina) e exiba 3 pares.\n",
        "- Crie uma **tupla** contendo três informações distintas de uma linha e imprima o resultado.\n"
      ],
      "metadata": {
        "id": "B7BHuzy5BKyf"
      }
    },
    {
      "cell_type": "code",
      "source": [
        "# Lista: Coluna de texto/categórica\n",
        "nomes = list(df['DEALSIZE'])\n",
        "for nome in nomes[:20]:\n",
        "    print(nome)"
      ],
      "metadata": {
        "id": "RY0jwocVMm9f",
        "colab": {
          "base_uri": "https://localhost:8080/"
        },
        "outputId": "ced36b51-2d55-4aa5-98af-4633ea11ee37"
      },
      "execution_count": 8,
      "outputs": [
        {
          "output_type": "stream",
          "name": "stdout",
          "text": [
            "Small\n",
            "Small\n",
            "Medium\n",
            "Medium\n",
            "Medium\n",
            "Medium\n",
            "Small\n",
            "Medium\n",
            "Small\n",
            "Medium\n",
            "Medium\n",
            "Small\n",
            "Medium\n",
            "Medium\n",
            "Medium\n",
            "Medium\n",
            "Small\n",
            "Medium\n",
            "Medium\n",
            "Medium\n"
          ]
        }
      ]
    },
    {
      "cell_type": "markdown",
      "source": [
        "# Insight  \n",
        "\n",
        "### A coluna que analisei foi a DEALSIZE, pedi para imprimir as 10 primeiras linhas percebe-se que a maior parte dos produtos enviadoas tem o tamanho médio, com isso nota-se que as lojas estão vendendo cada vez mais produtos  \n"
      ],
      "metadata": {
        "id": "Z0BrfNWZ1yuD"
      }
    },
    {
      "cell_type": "code",
      "source": [
        "# Dicionário: chave e valor, exemplo (nome:categoria)\n",
        "dicionario = dict(zip(df['CUSTOMERNAME'][:5],\n",
        "                      df['DEALSIZE'][:5]))\n",
        "print(dicionario)\n",
        "# Se não tiver outra coluna str, pode repetir 'Escolha_Coluna_STR'"
      ],
      "metadata": {
        "colab": {
          "base_uri": "https://localhost:8080/"
        },
        "id": "r7dyKGBV286c",
        "outputId": "ada95e05-f1a0-4352-b126-33fdb1ecce9e"
      },
      "execution_count": 9,
      "outputs": [
        {
          "output_type": "stream",
          "name": "stdout",
          "text": [
            "{'Land of Toys Inc.': 'Small', 'Reims Collectables': 'Small', 'Lyon Souveniers': 'Medium', 'Toys4GrownUps.com': 'Medium', 'Corporate Gift Ideas Co.': 'Medium'}\n"
          ]
        }
      ]
    },
    {
      "cell_type": "markdown",
      "source": [
        "# Insight\n",
        "### Analisando a coluna CUSTOMERNAME e  DEALSIZE, está também analisada anteriormente, reafirma que os clientes estão vendendo mais produtos mesmo, isso se dá pelo tamanho da embalagem despachada"
      ],
      "metadata": {
        "id": "ejC4MJx86kG7"
      }
    },
    {
      "cell_type": "code",
      "source": [
        "#Tupla: informações de uma linha\n",
        "linha = df.iloc[0]\n",
        "minha_tupla = (linha['CITY'], linha['STATE'], linha['QUANTITYORDERED'], linha['CUSTOMERNAME'])\n",
        "print(minha_tupla)\n"
      ],
      "metadata": {
        "colab": {
          "base_uri": "https://localhost:8080/"
        },
        "id": "T32F1Inm6hP2",
        "outputId": "1227caa6-58a6-42bc-bccf-5b18536703f1"
      },
      "execution_count": 10,
      "outputs": [
        {
          "output_type": "stream",
          "name": "stdout",
          "text": [
            "('NYC', 'NY', np.int64(30), 'Land of Toys Inc.')\n"
          ]
        }
      ]
    },
    {
      "cell_type": "markdown",
      "source": [
        "# Insight\n",
        "### Aqui vimos que a cidade de NYC , no estado de New york encomendou 30 produtos  da loja 'Land of Toys Inc. eles está  na linha 0  das 4 colunas( CITY, STATE,QUANTITYORDERED, CUSTOMERNAME)\n",
        "\n",
        "\n",
        "\n",
        "\n"
      ],
      "metadata": {
        "id": "pmfjyDYv92lK"
      }
    },
    {
      "cell_type": "markdown",
      "source": [],
      "metadata": {
        "id": "qDhGkDgG4qF0"
      }
    },
    {
      "cell_type": "markdown",
      "source": [
        "### **4. Estruturas Condicionais e Laços**\n",
        "\n",
        "- Escolha uma coluna **numérica** de interesse na base (exemplo: nota, preço, quantidade, etc) e utilize uma **estrutura condicional (if/elif/else)** para imprimir uma mensagem de acordo com o valor de um elemento (por exemplo, se é alto, médio ou baixo).\n",
        "- Use um **laço for** para calcular a soma (ou outra operação, como média ou multiplicação) dos primeiros 5 valores dessa coluna e mostre o resultado.\n",
        "- Empregue um **laço while** para encontrar (ou contar) o primeiro valor da mesma coluna que atenda a uma determinada condição (por exemplo: maior que um certo número, diferente de zero, etc) e exiba esse valor quando encontrado.\n",
        "\n"
      ],
      "metadata": {
        "id": "RLvNms-1B3TU"
      }
    },
    {
      "cell_type": "code",
      "source": [
        "# Escolha uma coluna numérica adequada\n",
        "coluna_numerica = 'PRICEEACH'\n",
        "primeiro_valor = df[coluna_numerica][0]\n",
        "print(primeiro_valor)"
      ],
      "metadata": {
        "colab": {
          "base_uri": "https://localhost:8080/"
        },
        "id": "xlPb3pKW4cQ9",
        "outputId": "3ac7cbac-3c8e-4c58-b22b-0da95b5ca82a"
      },
      "execution_count": 11,
      "outputs": [
        {
          "output_type": "stream",
          "name": "stdout",
          "text": [
            "95.7\n"
          ]
        }
      ]
    },
    {
      "cell_type": "code",
      "source": [
        "# Estrutura condicional personalizada:\n",
        "# Substitua os valores (10, 5) conforme a distribuição da sua coluna.\n",
        "if primeiro_valor > 100:\n",
        "  print(primeiro_valor, \"- Valor alto pois é maior que 100\")\n",
        "elif primeiro_valor > 50:\n",
        "  print(primeiro_valor, \"- Valor intermediário, pois é maior que 50\")\n",
        "else:\n",
        "  print(primeiro_valor, \" - Valor baixo pois é menor que 100 e ,maior queb50\")"
      ],
      "metadata": {
        "colab": {
          "base_uri": "https://localhost:8080/"
        },
        "id": "ZJDCSXkfA7UG",
        "outputId": "bf4c22f0-dcf9-4159-c173-6564722ea991"
      },
      "execution_count": 12,
      "outputs": [
        {
          "output_type": "stream",
          "name": "stdout",
          "text": [
            "95.7 - Valor intermediário, pois é maior que 50\n"
          ]
        }
      ]
    },
    {
      "cell_type": "code",
      "source": [
        "# For para operar sobre n primeiros elementos de uma coluna numérica escolhida\n",
        "coluna_numerica = 'SALES'\n",
        "soma = 0\n",
        "lista = list(df[coluna_numerica][:5])\n",
        "for n in lista:\n",
        "  soma += n\n",
        "print(\"Soma dos 5 primeiros valores da coluna SALES :\", soma)"
      ],
      "metadata": {
        "colab": {
          "base_uri": "https://localhost:8080/"
        },
        "id": "UNrqdFIgCd1y",
        "outputId": "9f14c1c9-4238-4efe-cf1f-13ae091eaf39"
      },
      "execution_count": 13,
      "outputs": [
        {
          "output_type": "stream",
          "name": "stdout",
          "text": [
            "Soma dos 5 primeiros valores da coluna SALES : 18473.21\n"
          ]
        }
      ]
    },
    {
      "cell_type": "markdown",
      "source": [
        "# Insight\n",
        "### Aqui as vendas derão um valor de 18473.21 nas 5 primeiras linhas"
      ],
      "metadata": {
        "id": "6DsZTWuvDOuY"
      }
    },
    {
      "cell_type": "code",
      "source": [
        "# While: Encontrar o primeiro valor maior que um certo limite, definido de acordo com os dados\n",
        "limite = 5000  # Ajuste conforme o contexto da coluna escolhida\n",
        "i = 0\n",
        "while i < len(lista) and lista[i] <= limite:\n",
        "    i += 1\n",
        "if i < len(lista):\n",
        "        print(f\"Primeiro valor > {limite} encontrado na linha {i}: {lista[i]}\")\n",
        "else:\n",
        "    print(\"Nenhum valor maior que\", limite, \"encontrado nos primeiros 5.\")"
      ],
      "metadata": {
        "colab": {
          "base_uri": "https://localhost:8080/"
        },
        "id": "gE6HHgldDcfB",
        "outputId": "7812ff75-c0e8-469a-e8f8-1bc52319b39b"
      },
      "execution_count": 14,
      "outputs": [
        {
          "output_type": "stream",
          "name": "stdout",
          "text": [
            "Primeiro valor > 5000 encontrado na linha 4: 5205.27\n"
          ]
        }
      ]
    },
    {
      "cell_type": "markdown",
      "source": [
        "# Insight\n",
        "### O primeiro valor maior que 5000 foi encontrado na linha 4\n"
      ],
      "metadata": {
        "id": "BkaBZRbbP6DS"
      }
    },
    {
      "cell_type": "markdown",
      "source": [
        "### **5. Operadores Aritméticos e Manipulação de Dados**\n",
        "\n",
        "- Realize operações matemáticas (soma, subtração, multiplicação ou divisão) entre colunas ou valores de interesse da base (ex: diferença de duas notas, preço com desconto, etc).\n",
        "- Crie uma nova coluna no DataFrame aplicando um cálculo simples.\n"
      ],
      "metadata": {
        "id": "9WvIrRfOCKLH"
      }
    },
    {
      "cell_type": "code",
      "source": [
        "if 'SALES' in df.columns and 'PRICEEACH' in df.columns:\n",
        "    df['Quant_vendida'] = df['SALES'] / df['PRICEEACH']\n",
        "    print(df[['SALES', 'PRICEEACH', 'Quant_vendida']].head(\n",
        "\n",
        "    ))"
      ],
      "metadata": {
        "colab": {
          "base_uri": "https://localhost:8080/"
        },
        "id": "dHqJmBa1GPod",
        "outputId": "f999ef01-37a9-40bc-a1d4-3e85177b48e6"
      },
      "execution_count": 15,
      "outputs": [
        {
          "output_type": "stream",
          "name": "stdout",
          "text": [
            "     SALES  PRICEEACH  Quant_vendida\n",
            "0  2871.00      95.70        30.0000\n",
            "1  2765.90      81.35        34.0000\n",
            "2  3884.34      94.74        41.0000\n",
            "3  3746.70      83.26        45.0000\n",
            "4  5205.27     100.00        52.0527\n"
          ]
        }
      ]
    },
    {
      "cell_type": "markdown",
      "source": [
        "# Insight\n",
        "### Aqui foi realizda uma divisão pelo total vendas e o valor de cada produto, dai vemos a quantidade vendida. o produto da linha quatro é o mais vendido"
      ],
      "metadata": {
        "id": "wm_Euc415wkW"
      }
    },
    {
      "cell_type": "code",
      "source": [
        "# Exemplo: preço com desconto\n",
        "if 'PRICEEACH' in df.columns:\n",
        "    df['Desconto'] = df['PRICEEACH'] * 0.50\n",
        "    print(df[['PRICEEACH', 'Desconto']].head())"
      ],
      "metadata": {
        "colab": {
          "base_uri": "https://localhost:8080/"
        },
        "id": "AM5v6YmY5wIR",
        "outputId": "72e3202d-83f2-472a-a8b8-9aea43706dc8"
      },
      "execution_count": 16,
      "outputs": [
        {
          "output_type": "stream",
          "name": "stdout",
          "text": [
            "   PRICEEACH  Desconto\n",
            "0      95.70    47.850\n",
            "1      81.35    40.675\n",
            "2      94.74    47.370\n",
            "3      83.26    41.630\n",
            "4     100.00    50.000\n"
          ]
        }
      ]
    },
    {
      "cell_type": "markdown",
      "source": [
        "# Insight\n",
        "### Apliquei desconto em cada produto,com tal desconto os totais das vendas sofreram uma queda"
      ],
      "metadata": {
        "id": "CdYNhAbA8u1I"
      }
    },
    {
      "cell_type": "markdown",
      "source": [
        "### **6. NumPy e Arrays Numéricos**\n",
        "\n",
        "- **Crie um array NumPy** a partir de uma coluna numérica da base.\n",
        "- Realize pelo menos duas operações vetorizadas com esse array (ex: somar, multiplicar, elevar ao quadrado elementos).\n",
        "- Mostre como acessar, modificar e exibir partes do array (fatiamento/slicing ou indexação).\n",
        "- Mostre como fazer uma operação agregada, como soma ou média, sobre o array.\n",
        "\n",
        "\n",
        "\n"
      ],
      "metadata": {
        "id": "lOTWU2MDCgty"
      }
    },
    {
      "cell_type": "code",
      "source": [
        "\n",
        "array = np.array(df['QTR_ID'])\n",
        "print(array)\n",
        "\n",
        "\n",
        "\n",
        "\n",
        "\n",
        "\n",
        "\n"
      ],
      "metadata": {
        "colab": {
          "base_uri": "https://localhost:8080/"
        },
        "id": "ISUvPU9P8FNp",
        "outputId": "39dcbb9a-a95b-48f3-d54c-3b60089aa884"
      },
      "execution_count": 24,
      "outputs": [
        {
          "output_type": "stream",
          "name": "stdout",
          "text": [
            "[1 2 3 ... 1 1 2]\n"
          ]
        }
      ]
    },
    {
      "cell_type": "markdown",
      "source": [
        "# Insight\n",
        "### Temos aqui a repatição do 1º e do 2º trimestre, isso indica que as possivelmente as vendas aumentaram nesse periodo"
      ],
      "metadata": {
        "id": "dVrUsSTJm7LI"
      }
    },
    {
      "cell_type": "code",
      "source": [],
      "metadata": {
        "id": "l6ovGgjc-V00"
      },
      "execution_count": 18,
      "outputs": []
    },
    {
      "cell_type": "code",
      "source": [
        "print(array[:5])\n"
      ],
      "metadata": {
        "colab": {
          "base_uri": "https://localhost:8080/"
        },
        "id": "-gIi_KM0-Vyv",
        "outputId": "2ea0b8c7-530f-43b2-a762-98256691b3d9"
      },
      "execution_count": 19,
      "outputs": [
        {
          "output_type": "stream",
          "name": "stdout",
          "text": [
            "[1 2 3 3 4]\n"
          ]
        }
      ]
    },
    {
      "cell_type": "markdown",
      "source": [
        "# Insight\n",
        "### Observando agora as 5 primeiras linhas mostras a repetição do 3º trimestre, aqui percebe-se tambéem  o aumento das vendas"
      ],
      "metadata": {
        "id": "ubClVDiFoYF5"
      }
    },
    {
      "cell_type": "code",
      "source": [
        "array = np.array(df['PRICEEACH'])\n",
        "print(array)\n",
        "\n",
        "\n"
      ],
      "metadata": {
        "colab": {
          "base_uri": "https://localhost:8080/"
        },
        "id": "KgtM1shj-bOl",
        "outputId": "d4a35c24-31ed-4f50-e0dc-ae87d365e127"
      },
      "execution_count": 26,
      "outputs": [
        {
          "output_type": "stream",
          "name": "stdout",
          "text": [
            "[ 95.7   81.35  94.74 ... 100.    62.24  65.52]\n"
          ]
        }
      ]
    },
    {
      "cell_type": "markdown",
      "source": [
        "# Insight\n",
        "### Aqui vemos o preco individual  dos ptrodutos"
      ],
      "metadata": {
        "id": "kHA3XNDgqC6f"
      }
    },
    {
      "cell_type": "code",
      "source": [
        "# Operações NumPy\n",
        "array_somado = array + 10\n",
        "array_quadrado = array ** 2\n",
        "array_dividido = array / 2\n",
        "array_diferença = array - 5\n",
        "array_multiplicado = array * 10\n",
        "\n"
      ],
      "metadata": {
        "id": "qkYsMbZSp2tx"
      },
      "execution_count": 27,
      "outputs": []
    },
    {
      "cell_type": "markdown",
      "source": [
        "# Insight\n",
        "### Resolvi mudar de coluna, estou usando essa coluna PRICEEACH,  para realizar as operações, pois com a coluna de trimestres não faria sentido"
      ],
      "metadata": {
        "id": "qFpo7KUwpUuM"
      }
    },
    {
      "cell_type": "code",
      "source": [
        "print(array_quadrado[:5])"
      ],
      "metadata": {
        "colab": {
          "base_uri": "https://localhost:8080/"
        },
        "id": "lVIR11mX-fB9",
        "outputId": "51e90b93-088a-4da0-fdb2-af16a3bca9aa"
      },
      "execution_count": 28,
      "outputs": [
        {
          "output_type": "stream",
          "name": "stdout",
          "text": [
            "[ 9158.49    6617.8225  8975.6676  6932.2276 10000.    ]\n"
          ]
        }
      ]
    },
    {
      "cell_type": "markdown",
      "source": [
        "#Insight\n",
        "### Testei uma da operaçãos o arry_quadrado - esta operação eleva o quadro cada valor da coluna"
      ],
      "metadata": {
        "id": "MHBWiy-VqTAd"
      }
    },
    {
      "cell_type": "code",
      "source": [
        "print(\"Soma dos elementos:\", array.sum())\n",
        "print(\"Média dos elementos:\", array.mean())\n",
        "print(\"Maior valor:\", array.max())\n",
        "print(\"Menor valor:\", array.min())\n",
        "print(\"Desvio padrão:\", array.std())\n",
        "print(\"Mediana:\", np.median(array))"
      ],
      "metadata": {
        "colab": {
          "base_uri": "https://localhost:8080/"
        },
        "id": "Si3ZMeaD-sqF",
        "outputId": "e91c4a06-5e3a-401a-bc80-ef77b014ab81"
      },
      "execution_count": 29,
      "outputs": [
        {
          "output_type": "stream",
          "name": "stdout",
          "text": [
            "Soma dos elementos: 236168.07\n",
            "Média dos elementos: 83.65854410201914\n",
            "Maior valor: 100.0\n",
            "Menor valor: 26.88\n",
            "Desvio padrão: 20.170703013238473\n",
            "Mediana: 95.7\n"
          ]
        }
      ]
    },
    {
      "cell_type": "markdown",
      "source": [
        "# Insight\n",
        "### Realizei mais operações para demostrar como cada uma delas influencia nessa manipulação de dados:\n",
        "#### Escolhi as operações de média, maior e menor valor para realizar minha analise:\n",
        "### a média dos valores dos produtos é  83.65854410201914, isso indica que boa parte dos produtos custam acima de 60\n",
        "### o maior valor encontrado foi 100.0, reafirmando que a operação média procede\n",
        "### o menor valor encontrado foi 26.88 que tem relação com o desvio padrão, pois esse menor valor está muito distante da média, com isso percebe-se uma dispersão dos dados."
      ],
      "metadata": {
        "id": "htnt1D_kqqoX"
      }
    },
    {
      "cell_type": "markdown",
      "source": [],
      "metadata": {
        "id": "c6IF7R4GmnmJ"
      }
    },
    {
      "cell_type": "code",
      "source": [],
      "metadata": {
        "id": "joniMJ0a-shh"
      },
      "execution_count": null,
      "outputs": []
    },
    {
      "cell_type": "markdown",
      "source": [
        "### **7. Acesso e Manipulação de Dados com Pandas**\n",
        "\n",
        "- Selecione linhas/colunas específicas usando **`.loc`**, **`.iloc`** ou filtrando por condição.\n",
        "- Use algum método de pandas para contar ou agrupar informações simples (ex: **`.value_counts()`**, **`.groupby()`**), mostrando o resultado em Markdown.\n",
        "- Crie uma pequena análise agregada interessante (ex: número de filmes por país, quantidade de alunos por escola, vendas por categoria).\n",
        "\n",
        "``` python\n",
        "array = np.array(df['Escolha_Coluna_INT_Ou_FLOAT'])\n",
        "\n",
        "# Operações NumPy\n",
        "array_somado = array + 10\n",
        "array_quadrado = array ** 2\n",
        "\n",
        "print(array[:5])\n",
        "print(array_somado[:5])\n",
        "print(array_quadrado[:5])\n",
        "\n",
        "print(\"Soma dos elementos:\", array.sum())\n",
        "print(\"Média dos elementos:\", array.mean())\n",
        "```\n",
        "\n",
        "> Exemplo de Insight:\n",
        "Utilizando a filtragem para “quantidade > 10”, percebi que situações assim são raras e concentram-se nas vendas de datas especiais. O value_counts da coluna de categoria de produtos evidenciou que “Padaria” e “Bebidas” são maioria.\n",
        "\n",
        "\n"
      ],
      "metadata": {
        "id": "CFUXF2miCrcw"
      }
    },
    {
      "cell_type": "code",
      "source": [
        "array = np.array(df['PRICEEACH'])\n",
        "\n",
        "# Operações NumPy\n",
        "array_somado = array + 10\n",
        "array_quadrado = array ** 2\n",
        "\n",
        "print(array[:5])\n",
        "print(array_somado[:5])\n",
        "print(array_quadrado[:5])\n",
        "\n",
        "print(\"Soma dos elementos:\", array.sum())\n",
        "print(\"Média dos elementos:\", array.mean())"
      ],
      "metadata": {
        "colab": {
          "base_uri": "https://localhost:8080/"
        },
        "id": "1DoC025xtn-Q",
        "outputId": "ab33678a-8e47-43de-9559-0b357023ec7f"
      },
      "execution_count": 30,
      "outputs": [
        {
          "output_type": "stream",
          "name": "stdout",
          "text": [
            "[ 95.7   81.35  94.74  83.26 100.  ]\n",
            "[105.7   91.35 104.74  93.26 110.  ]\n",
            "[ 9158.49    6617.8225  8975.6676  6932.2276 10000.    ]\n",
            "Soma dos elementos: 236168.07\n",
            "Média dos elementos: 83.65854410201914\n"
          ]
        }
      ]
    },
    {
      "cell_type": "markdown",
      "source": [
        "# Insight\n",
        "### Na opreção de soma simulei um aumento de preço (ex: reajuste ou imposto).\n",
        "### Também simulei o dobro do preço final para compras de 2 unidades\n",
        "### obitive a soma dos valores individuias que foi 236168.07 e  média de vendas que ficou em  83.65854410201914"
      ],
      "metadata": {
        "id": "T-I0Pcd8Sm-T"
      }
    },
    {
      "cell_type": "markdown",
      "source": [
        "### **8. Visualização de Dados**\n",
        "\n",
        "- **Obrigatório gerar pelo menos 1 gráfico de cada tipo básico:**\n",
        "    - **Gráfico de Linha:** ilustrando tendências/séries temporais quando possível.\n",
        "    - **Gráfico de Barras:** comparando categorias relevantes.\n",
        "    - **Gráfico de Dispersão:** mostrando a relação entre duas variáveis numéricas.\n",
        "- Se algum dos gráficos não for aplicável à sua base, crie (ou simule) dados para mostrar que compreendeu o recurso.\n",
        "- Para cada gráfico, escreva em Markdown um comentário sobre o que ele mostra.\n",
        "\n",
        "``` python\n",
        "# Gráfico de Linha (ex: evolução temporal; use 'Data' se houver)\n",
        "if 'Data' in df.columns and 'Escolha_Coluna_INT_Ou_FLOAT' in df.columns:\n",
        "    df.groupby('Data')['Escolha_Coluna_INT_Ou_FLOAT'].sum().plot(kind='line')\n",
        "    plt.title('Evolução no tempo')\n",
        "    plt.xlabel('Data')\n",
        "    plt.ylabel('Escolha_Coluna_INT_Ou_FLOAT')\n",
        "    plt.show()\n",
        "\n",
        "# Gráfico de Barras (categorias)\n",
        "if 'Escolha_Coluna_STR' in df.columns and 'Escolha_Coluna_INT_Ou_FLOAT' in df.columns:\n",
        "    df.groupby('Escolha_Coluna_STR')['Escolha_Coluna_INT_Ou_FLOAT'].sum().plot(kind='bar')\n",
        "    plt.title('Total por categoria')\n",
        "    plt.xlabel('Escolha_Coluna_STR')\n",
        "    plt.ylabel('Escolha_Coluna_INT_Ou_FLOAT')\n",
        "    plt.show()\n",
        "\n",
        "# Gráfico de Dispersão (duas numéricas)\n",
        "if 'Escolha_Coluna_INT_Ou_FLOAT' in df.columns and 'Outra_Coluna_INT_Ou_FLOAT' in df.columns:\n",
        "    plt.scatter(df['Escolha_Coluna_INT_Ou_FLOAT'], df['Outra_Coluna_INT_Ou_FLOAT'])\n",
        "    plt.title('Dispersão')\n",
        "    plt.xlabel('Escolha_Coluna_INT_Ou_FLOAT')\n",
        "    plt.ylabel('Outra_Coluna_INT_Ou_FLOAT')\n",
        "    plt.show()\n",
        "```\n",
        "> Exemplo de Insight:\n",
        "Com o gráfico de barras, ficou visualmente claro que “Padaria” domina em número de vendas, mesmo sem ver os números exatos. O gráfico de dispersão entre preço e quantidade mostrou dispersão baixa, indicando que vendas de grandes quantidades são normalmente para produtos baratos."
      ],
      "metadata": {
        "id": "3MhAtTo7DJnU"
      }
    },
    {
      "cell_type": "code",
      "source": [
        "import matplotlib.pyplot as plt"
      ],
      "metadata": {
        "id": "xRZ6Qpngunj2"
      },
      "execution_count": 37,
      "outputs": []
    },
    {
      "cell_type": "markdown",
      "source": [
        "ORDERNUMBER           int64\n",
        "QUANTITYORDERED       int64\n",
        "PRICEEACH           float64\n",
        "ORDERLINENUMBER       int64\n",
        "SALES               float64\n",
        "ORDERDATE            object\n",
        "*STATUS *              object\n",
        "QTR_ID                int64\n",
        "MONTH_ID              int64\n",
        "YEAR_ID               int64\n",
        "PRODUCTLINE          object\n",
        "MSRP                  int64\n",
        "PRODUCTCODE          object\n",
        "CUSTOMERNAME         object\n",
        "PHONE                object\n",
        "ADDRESSLINE1         object\n",
        "ADDRESSLINE2         object\n",
        "CITY                 object\n",
        "STATE                object\n",
        "POSTALCODE           object\n",
        "COUNTRY              object\n",
        "TERRITORY            object\n",
        "CONTACTLASTNAME      object\n",
        "CONTACTFIRSTNAME     object\n",
        "DEALSIZE             objec"
      ],
      "metadata": {
        "id": "hGDAJnDDx9yG"
      }
    },
    {
      "cell_type": "code",
      "source": [
        "# Gráfico de Linha (ex: evolução temporal; use 'Data' se houver)\n",
        "if 'MONTH_ID' in df.columns and 'QUANTITYORDERED' in df.columns:\n",
        "    df.groupby('MONTH_ID')['QUANTITYORDERED'].sum().plot(kind='line')\n",
        "    plt.title('Quantidade de produtos Vendidos por mês')\n",
        "    plt.xlabel('MONTH_ID')\n",
        "    plt.ylabel('QUANTITYORDERED')\n",
        "    plt.show()\n"
      ],
      "metadata": {
        "colab": {
          "base_uri": "https://localhost:8080/",
          "height": 472
        },
        "id": "dGmbSztVuH6A",
        "outputId": "33372b0a-845a-4055-a7fb-d25a3082c2e6"
      },
      "execution_count": 54,
      "outputs": [
        {
          "output_type": "display_data",
          "data": {
            "text/plain": [
              "<Figure size 640x480 with 1 Axes>"
            ],
            "image/png": "[encoded data removed]"
          },
          "metadata": {}
        }
      ]
    },
    {
      "cell_type": "markdown",
      "source": [
        "# Insight\n",
        "#### o Grafico demostra que a quantidade de vendas  varia a cada mês.\n",
        "### os meses como menos vendas são 6,7,8,9.\n",
        "### já o mês que mas vendeu foi o 11, acredita-se que é um estoque para as festividades natalinas  "
      ],
      "metadata": {
        "id": "z5juLoHkuL_p"
      }
    },
    {
      "cell_type": "code",
      "source": [
        "# Gráfico de Barras (categorias)\n",
        "if 'COUNTRY' in df.columns and 'SALES' in df.columns:\n",
        "    df.groupby('COUNTRY')['SALES'].sum().plot(kind='bar')\n",
        "    plt.title('Vendas em $ por Pais')\n",
        "    plt.xlabel('COUNTRY')\n",
        "    plt.ylabel('SALES')\n",
        "    plt.show()"
      ],
      "metadata": {
        "colab": {
          "base_uri": "https://localhost:8080/",
          "height": 539
        },
        "id": "nLuF6oxyuMRw",
        "outputId": "8952676e-2428-449d-df09-16e99db1fa6e"
      },
      "execution_count": 57,
      "outputs": [
        {
          "output_type": "display_data",
          "data": {
            "text/plain": [
              "<Figure size 640x480 with 1 Axes>"
            ],
            "image/png": "[encoded data removed]"
          },
          "metadata": {}
        }
      ]
    },
    {
      "cell_type": "code",
      "source": [
        "if 'COUNTRY' in df.columns and 'SALES' in df.columns:\n",
        "    # Agrupa as vendas por país e ordena do menor para o maior\n",
        "    vendas_por_pais = df.groupby('COUNTRY')['SALES'].sum().sort_values()\n",
        "\n",
        "    # Seleciona os 3 com menor volume de vendas\n",
        "    menores_vendas = vendas_por_pais.head(3)\n",
        "\n",
        "    # Exibe os dados\n",
        "    print(\"Top 3 países com menor volume de vendas:\")\n",
        "    print(menores_vendas)"
      ],
      "metadata": {
        "colab": {
          "base_uri": "https://localhost:8080/"
        },
        "id": "dduBk9q-E5kR",
        "outputId": "316e2859-17ea-42eb-fec3-1c70dc63225f"
      },
      "execution_count": 58,
      "outputs": [
        {
          "output_type": "stream",
          "name": "stdout",
          "text": [
            "Top 3 países com menor volume de vendas:\n",
            "COUNTRY\n",
            "Ireland         57756.43\n",
            "Philippines     94015.73\n",
            "Belgium        108412.62\n",
            "Name: SALES, dtype: float64\n"
          ]
        }
      ]
    },
    {
      "cell_type": "code",
      "source": [
        "if 'COUNTRY' in df.columns and 'SALES' in df.columns:\n",
        "    # Agrupa e ordena do menor para o maior\n",
        "    vendas_por_pais = df.groupby('COUNTRY')['SALES'].sum().sort_values()\n",
        "\n",
        "    # Pega os 3 com maior valor (últimos da lista ordenada)\n",
        "    maiores_vendas = vendas_por_pais.tail(3)\n",
        "\n",
        "    print(\"Top 3 países com maior volume de vendas:\")\n",
        "    print(maiores_vendas)\n"
      ],
      "metadata": {
        "colab": {
          "base_uri": "https://localhost:8080/"
        },
        "id": "wILRjvEQFFft",
        "outputId": "8e0c2172-0965-4032-feb6-9862748ed8a9"
      },
      "execution_count": 59,
      "outputs": [
        {
          "output_type": "stream",
          "name": "stdout",
          "text": [
            "Top 3 países com maior volume de vendas:\n",
            "COUNTRY\n",
            "France    1110916.52\n",
            "Spain     1215686.92\n",
            "USA       3627982.83\n",
            "Name: SALES, dtype: float64\n"
          ]
        }
      ]
    },
    {
      "cell_type": "markdown",
      "source": [
        "# Insight\n",
        "### Este grafico mostra a quantidade de vendas $ por pais. Obeserva-se que o pais que mais vendeu foi o USA, em sguida a Spanish e France.\n",
        "### Já os pais que menos venderam foram: Irland, Philippines  e Belgiun"
      ],
      "metadata": {
        "id": "uqRPAEVKuSKh"
      }
    },
    {
      "cell_type": "code",
      "source": [
        "# Gráfico de Dispersão (duas numéricas)\n",
        "if 'PRICEEACH' in df.columns and 'SALES' in df.columns:\n",
        "    plt.scatter(df['PRICEEACH'], df['SALES'])\n",
        "    plt.title('Relação entre preço e total vendido')\n",
        "    plt.xlabel('PRICEEACH')\n",
        "    plt.ylabel('SALES')\n",
        "    plt.show()"
      ],
      "metadata": {
        "colab": {
          "base_uri": "https://localhost:8080/",
          "height": 472
        },
        "id": "HYdw4gJvuR7u",
        "outputId": "1937fc36-0ebd-48b3-8520-a3bf85756039"
      },
      "execution_count": 63,
      "outputs": [
        {
          "output_type": "display_data",
          "data": {
            "text/plain": [
              "<Figure size 640x480 with 1 Axes>"
            ],
            "image/png": "[encoded data removed]"
          },
          "metadata": {}
        }
      ]
    },
    {
      "cell_type": "code",
      "source": [
        "top_precos = df['PRICEEACH'].value_counts().head(3)\n",
        "print(\"📊 Top 5 preços mais vendidos:\")\n",
        "print(top_precos)\n"
      ],
      "metadata": {
        "colab": {
          "base_uri": "https://localhost:8080/"
        },
        "id": "6d8MnJ2UI28G",
        "outputId": "6913a609-28e6-4f75-c816-51c59511ddcd"
      },
      "execution_count": 65,
      "outputs": [
        {
          "output_type": "stream",
          "name": "stdout",
          "text": [
            "📊 Top 5 preços mais vendidos:\n",
            "PRICEEACH\n",
            "100.00    1304\n",
            "96.34        6\n",
            "59.87        6\n",
            "Name: count, dtype: int64\n"
          ]
        }
      ]
    },
    {
      "cell_type": "code",
      "source": [
        "precos_menos_vendidos = df['PRICEEACH'].value_counts(ascending=True).head(3)\n",
        "print(\"📉 Top 5 preços unitários menos vendidos:\")\n",
        "print(precos_menos_vendidos)\n"
      ],
      "metadata": {
        "colab": {
          "base_uri": "https://localhost:8080/"
        },
        "id": "sGQim3A_I252",
        "outputId": "2a5f5b85-a68a-4f52-f739-78db803663ef"
      },
      "execution_count": 67,
      "outputs": [
        {
          "output_type": "stream",
          "name": "stdout",
          "text": [
            "📉 Top 5 preços unitários menos vendidos:\n",
            "PRICEEACH\n",
            "92.83    1\n",
            "34.91    1\n",
            "76.36    1\n",
            "Name: count, dtype: int64\n"
          ]
        }
      ]
    },
    {
      "cell_type": "markdown",
      "source": [
        "# Insight\n",
        "#### Neste grafico de dipersão , percebe-se maior concentração de vendas em produtos que custam entre 90 a 100 e menor nos que custam de 25 a 40, mas exixte uma dispersão de dados proximos ao 35, 75 e 90 também"
      ],
      "metadata": {
        "id": "kY12JZqmHxQC"
      }
    },
    {
      "cell_type": "markdown",
      "source": [
        "### **9. Relatório e Insights**\n",
        "\n",
        "- Após os usos de listas, dicionários, tuplas, operações, agrupamentos e gráficos, escreva em Markdown sempre que descobrir algo interessante, curioso ou surpreendente.\n",
        "- Inclua um **relatório final** em Markdown:\n",
        "    \n",
        "    > “Neste projeto, explorei a base X, com N linhas e Y colunas. Descobri que...\n",
        "    ... (exponha padrões, diferenças, curiosidades simples, possíveis perguntas para investigar, etc.)”\n",
        "    >"
      ],
      "metadata": {
        "id": "1jKZQcImDZS6"
      }
    }
  ]
}